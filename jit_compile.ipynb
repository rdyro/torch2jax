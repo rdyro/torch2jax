{
 "cells": [
  {
   "cell_type": "code",
   "execution_count": 1,
   "id": "e1e35942",
   "metadata": {},
   "outputs": [],
   "source": [
    "from pathlib import Path\n",
    "from pprint import pprint\n",
    "\n",
    "from jfi import jaxm\n",
    "\n",
    "import torch\n",
    "import torch.utils.cpp_extension as cpp_extension\n",
    "import numpy as np\n",
    "\n",
    "from src.python.torch_call_jax import build, torch_call, wrap_torch_fn"
   ]
  },
  {
   "cell_type": "code",
   "execution_count": 2,
   "id": "4beb8e86",
   "metadata": {},
   "outputs": [],
   "source": [
    "mod = cpp_extension.load(name=\"my_ops\", sources=[\"src/cpp/torch_call.cu\"])\n",
    "build(mod)"
   ]
  },
  {
   "cell_type": "code",
   "execution_count": 20,
   "id": "183823ae",
   "metadata": {},
   "outputs": [],
   "source": [
    "def test_fn(a, b):\n",
    "    return (a + b) / torch.norm(a), a"
   ]
  },
  {
   "cell_type": "code",
   "execution_count": 21,
   "id": "8917db2b",
   "metadata": {},
   "outputs": [],
   "source": [
    "a, b = torch.randn(3, device=\"cuda\"), torch.randn(3, device=\"cuda\")\n",
    "test_fn_jax = wrap_torch_fn(mod, test_fn, [a, b], id=21)\n",
    "out1 = test_fn(a, b)"
   ]
  },
  {
   "cell_type": "code",
   "execution_count": 22,
   "id": "d44870ef",
   "metadata": {},
   "outputs": [],
   "source": [
    "a, b = jaxm.to(jaxm.array(a.cpu().numpy()), device=\"cuda\"), jaxm.to(jaxm.array(b.cpu().numpy()), device=\"cuda\")\n",
    "out2 = test_fn_jax(a, b)"
   ]
  },
  {
   "cell_type": "code",
   "execution_count": 23,
   "id": "a3b34f52",
   "metadata": {},
   "outputs": [
    {
     "data": {
      "text/plain": [
       "(tensor([-0.7079, -0.8680, -0.1019], device='cuda:0'),\n",
       " tensor([-0.1051,  0.7972,  0.2765], device='cuda:0'))"
      ]
     },
     "execution_count": 23,
     "metadata": {},
     "output_type": "execute_result"
    }
   ],
   "source": [
    "out1"
   ]
  },
  {
   "cell_type": "code",
   "execution_count": 24,
   "id": "8338b882",
   "metadata": {},
   "outputs": [
    {
     "data": {
      "text/plain": [
       "[Array([-0.7078985 , -0.86804414, -0.10188818], dtype=float32),\n",
       " Array([-0.10506006,  0.7971908 ,  0.27645925], dtype=float32)]"
      ]
     },
     "execution_count": 24,
     "metadata": {},
     "output_type": "execute_result"
    }
   ],
   "source": [
    "out2"
   ]
  },
  {
   "cell_type": "code",
   "execution_count": 3,
   "id": "90babaad",
   "metadata": {},
   "outputs": [
    {
     "name": "stdout",
     "output_type": "stream",
     "text": [
      "op_name = gpu_torch_call_f64\n",
      "ir_dtype = tensor<50xf64>\n",
      "dtype: float64\n",
      "[ -7.69301755   9.85556456  17.91446018   5.05608369   2.9735934\n",
      "   8.47066228   0.18601189   9.81644489   2.02669975   6.33979124\n",
      "   5.99166052  -4.96604249   1.89614211  11.30684113  -2.90173717\n",
      "  11.41611024 -15.54126008   2.22760819   9.07442734  -8.23877566\n",
      "  -7.02110279 -11.70127286  -3.60064385  13.64872768  -0.62094695\n",
      "  -8.94874319  11.81052007   1.60637174  -4.29390398  -1.55727641\n",
      "  -5.68923435  -3.1449265    2.95529341  -8.01558365  -7.18923466\n",
      "   2.70486956   0.16546794 -13.86874635 -12.74236983   7.19246436\n",
      "  -7.70809397  -0.73172217   5.07880735  -3.41690986 -22.41979778\n",
      "   1.00101514   2.68671555   4.02988285  17.04027984   1.78406585]\n",
      "err = 1.5036e-16\n"
     ]
    }
   ],
   "source": [
    "device, dtype = \"cuda\", jaxm.float64\n",
    "#device, dtype = \"cpu\", jaxm.float64\n",
    "a, b = jaxm.randn(50, device=device, dtype=dtype), jaxm.randn(50, device=device, dtype=dtype)\n",
    "out = torch_call(a, b)[0]\n",
    "print(out)\n",
    "expected = a * jaxm.sum(b) + b * jaxm.sum(a)\n",
    "err = jaxm.norm(out - expected) / jaxm.norm(expected)\n",
    "print(f\"err = {err:.4e}\")"
   ]
  },
  {
   "cell_type": "code",
   "execution_count": 4,
   "id": "42eab7df",
   "metadata": {},
   "outputs": [
    {
     "name": "stdout",
     "output_type": "stream",
     "text": [
      "189 µs ± 5.63 µs per loop (mean ± std. dev. of 7 runs, 10,000 loops each)\n"
     ]
    }
   ],
   "source": [
    "%timeit out = torch_call(a, b)[0]"
   ]
  },
  {
   "cell_type": "code",
   "execution_count": null,
   "id": "74164bcd",
   "metadata": {},
   "outputs": [],
   "source": []
  }
 ],
 "metadata": {
  "jupytext": {
   "cell_metadata_filter": "-all",
   "main_language": "python",
   "notebook_metadata_filter": "-all"
  },
  "kernelspec": {
   "display_name": "devel",
   "language": "python",
   "name": "python3"
  },
  "language_info": {
   "codemirror_mode": {
    "name": "ipython",
    "version": 3
   },
   "file_extension": ".py",
   "mimetype": "text/x-python",
   "name": "python",
   "nbconvert_exporter": "python",
   "pygments_lexer": "ipython3",
   "version": "3.9.13"
  }
 },
 "nbformat": 4,
 "nbformat_minor": 5
}
