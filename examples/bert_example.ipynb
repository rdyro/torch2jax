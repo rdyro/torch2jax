{
 "cells": [
  {
   "attachments": {},
   "cell_type": "markdown",
   "id": "7d16bfa8",
   "metadata": {},
   "source": [
    "# Calling BERT model from JAX (with BERT weights in JAX)"
   ]
  },
  {
   "cell_type": "code",
   "execution_count": 1,
   "id": "bbd89d91",
   "metadata": {},
   "outputs": [],
   "source": [
    "from __future__ import annotations\n",
    "\n",
    "import sys\n",
    "from pathlib import Path\n",
    "import random\n",
    "import time\n",
    "\n",
    "from tqdm import tqdm\n",
    "from transformers import BertTokenizer, BertModel\n",
    "from datasets import load_dataset\n",
    "import torch\n",
    "from torch import Tensor\n",
    "from torch.func import functional_call\n",
    "import jax\n",
    "from jax import numpy as jnp\n",
    "import matplotlib.pyplot as plt\n",
    "import numpy as np\n",
    "\n",
    "from torch2jax import tree_t2j, torch2jax_with_vjp\n"
   ]
  },
  {
   "attachments": {},
   "cell_type": "markdown",
   "id": "2f8c81e5",
   "metadata": {},
   "source": [
    "### Loading the dataset and the model (in PyTorch)"
   ]
  },
  {
   "cell_type": "code",
   "execution_count": 2,
   "id": "4fa712ab",
   "metadata": {},
   "outputs": [
    {
     "name": "stderr",
     "output_type": "stream",
     "text": [
      "Found cached dataset wikitext (/home/rdyro/.cache/huggingface/datasets/wikitext/wikitext-2-v1/1.0.0/a241db52902eaf2c6aa732210bead40c090019a499ceb13bcbfa3f8ab646a126)\n",
      "Some weights of the model checkpoint at bert-base-uncased were not used when initializing BertModel: ['cls.seq_relationship.weight', 'cls.predictions.transform.LayerNorm.weight', 'cls.predictions.bias', 'cls.predictions.transform.dense.bias', 'cls.predictions.transform.LayerNorm.bias', 'cls.seq_relationship.bias', 'cls.predictions.transform.dense.weight']\n",
      "- This IS expected if you are initializing BertModel from the checkpoint of a model trained on another task or with another architecture (e.g. initializing a BertForSequenceClassification model from a BertForPreTraining model).\n",
      "- This IS NOT expected if you are initializing BertModel from the checkpoint of a model that you expect to be exactly identical (initializing a BertForSequenceClassification model from a BertForSequenceClassification model).\n"
     ]
    }
   ],
   "source": [
    "dataset = load_dataset(\"wikitext\", \"wikitext-2-v1\", split=\"train\")\n",
    "device = torch.device(\"cuda\" if torch.cuda.is_available() else \"cpu\")\n",
    "tokenizer = BertTokenizer.from_pretrained(\"bert-base-uncased\")\n",
    "model = BertModel.from_pretrained(\"bert-base-uncased\")\n",
    "model.to(device)\n",
    "model.eval()\n",
    "\n",
    "\n",
    "def tokenizer_torch(text: list[str]) -> dict[str, Tensor]:\n",
    "    encoded = tokenizer(text, padding=True, truncation=True, return_tensors=\"pt\")\n",
    "    return {k: v.to(device) for (k, v) in encoded.items()}"
   ]
  },
  {
   "attachments": {},
   "cell_type": "markdown",
   "id": "ed5d93ee",
   "metadata": {},
   "source": [
    "### Let's convert the torch model to a function, using `torch.func.functional_call`"
   ]
  },
  {
   "cell_type": "code",
   "execution_count": 3,
   "id": "ad5978ae",
   "metadata": {},
   "outputs": [],
   "source": [
    "params, buffers = dict(model.named_parameters()), dict(model.named_buffers())\n",
    "\n",
    "def torch_fwd_fn(params, buffers, input):\n",
    "    return functional_call(model, (params, buffers), args=(), kwargs=input).pooler_output\n",
    "\n",
    "nb = 16\n",
    "text = [x[\"text\"] for x in random.choices(dataset, k=int(1e3)) if len(x[\"text\"]) > 100][:nb]\n",
    "encoded_text = tokenizer_torch(text)"
   ]
  },
  {
   "attachments": {},
   "cell_type": "markdown",
   "id": "ec02c0c6",
   "metadata": {},
   "source": [
    "### We do not need to specify output, the library will call the torch function ones to infer the output"
   ]
  },
  {
   "cell_type": "code",
   "execution_count": 4,
   "id": "c096d8b5",
   "metadata": {},
   "outputs": [],
   "source": [
    "jax_fwd_fn = jax.jit(torch2jax_with_vjp(torch_fwd_fn, params, buffers, encoded_text))\n",
    "params_jax, buffers_jax = tree_t2j(params), tree_t2j(buffers)\n",
    "encoded_text_jax = tree_t2j(encoded_text)"
   ]
  },
  {
   "attachments": {},
   "cell_type": "markdown",
   "id": "587217a0",
   "metadata": {},
   "source": [
    "### Taking gradients wrt model parameters"
   ]
  },
  {
   "cell_type": "code",
   "execution_count": 5,
   "id": "ffb91d22",
   "metadata": {},
   "outputs": [
    {
     "name": "stdout",
     "output_type": "stream",
     "text": [
      "Total error in gradient: 0.0000e+00\n"
     ]
    }
   ],
   "source": [
    "g_fn = jax.jit(jax.grad(lambda params: jnp.sum(jax_fwd_fn(params, buffers_jax, encoded_text_jax))))\n",
    "g_torch_fn = torch.func.grad(lambda params: torch.sum(torch_fwd_fn(params, buffers, encoded_text)))\n",
    "gs = g_fn(params_jax)\n",
    "gs_torch = tree_t2j(g_torch_fn(params))\n",
    "\n",
    "# let's compare the errors in gradients (they will  be 0!)\n",
    "total_err = 0\n",
    "for k in gs.keys():\n",
    "    err = jnp.linalg.norm(gs[k] - gs_torch[k])\n",
    "    total_err += err\n",
    "print(f\"Total error in gradient: {total_err:.4e}\")"
   ]
  },
  {
   "attachments": {},
   "cell_type": "markdown",
   "id": "caedf060",
   "metadata": {},
   "source": [
    "### Timing the gains over `pure_callback`"
   ]
  },
  {
   "cell_type": "code",
   "execution_count": 6,
   "id": "50808801",
   "metadata": {},
   "outputs": [],
   "source": [
    "root_path = Path(\"\").absolute().parent / \"tests\"\n",
    "if str(root_path) not in sys.path:\n",
    "    sys.path.append(str(root_path))\n",
    "\n",
    "from pure_callback_alternative import wrap_torch_fn"
   ]
  },
  {
   "cell_type": "code",
   "execution_count": 7,
   "id": "74e6577a",
   "metadata": {},
   "outputs": [],
   "source": [
    "with torch.no_grad():\n",
    "    output_shapes = model(**encoded_text).pooler_output\n",
    "jax_fwd_fn2 = jax.jit(wrap_torch_fn(torch_fwd_fn, output_shapes, device=device.type))"
   ]
  },
  {
   "cell_type": "code",
   "execution_count": 8,
   "id": "247cd94e",
   "metadata": {},
   "outputs": [
    {
     "name": "stderr",
     "output_type": "stream",
     "text": [
      "  0%|          | 0/100 [00:00<?, ?it/s]/home/rdyro/Dropbox/projects/torch2jax/tests/pure_callback_alternative.py:27: UserWarning: The given NumPy array is not writable, and PyTorch does not support non-writable tensors. This means writing to this tensor will result in undefined behavior. You may want to copy the array to protect its data or make it writable before converting it to a tensor. This type of warning will be suppressed for the rest of this program. (Triggered internally at ../torch/csrc/utils/tensor_numpy.cpp:206.)\n",
      "  args = tree_map(lambda x: torch.as_tensor(x, device=device), args)\n",
      "100%|██████████| 100/100 [01:00<00:00,  1.65it/s]\n"
     ]
    }
   ],
   "source": [
    "t1s, t2s, t3s = [], [], []\n",
    "for i in tqdm(range(100)):\n",
    "    text = [x[\"text\"] for x in random.choices(dataset, k=int(1e3)) if len(x[\"text\"]) > 100][:nb]\n",
    "    encoded_text = tokenizer_torch(text)\n",
    "    encoded_text_jax = tree_t2j(encoded_text)\n",
    "\n",
    "    t = time.time()\n",
    "    out1 = jax_fwd_fn(params_jax, buffers_jax, encoded_text_jax)\n",
    "    out1.block_until_ready()\n",
    "    t = time.time() - t\n",
    "    t1s.append(t)\n",
    "\n",
    "    t = time.time()\n",
    "    out2 = jax_fwd_fn2(params_jax, buffers_jax, encoded_text_jax)[0]\n",
    "    out2.block_until_ready()\n",
    "    t = time.time() - t\n",
    "    t2s.append(t)\n",
    "\n",
    "    t = time.time()\n",
    "    with torch.no_grad():\n",
    "        out3 = model(**encoded_text).pooler_output\n",
    "    torch.cuda.synchronize()\n",
    "    t = time.time() - t\n",
    "    t3s.append(t)\n"
   ]
  },
  {
   "cell_type": "code",
   "execution_count": 9,
   "id": "50481f53",
   "metadata": {},
   "outputs": [
    {
     "data": {
      "image/png": "[encoded data removed]",
      "text/plain": [
       "<Figure size 640x480 with 1 Axes>"
      ]
     },
     "metadata": {},
     "output_type": "display_data"
    }
   ],
   "source": [
    "plt.figure()\n",
    "plt.bar(\n",
    "    [\"jax (pure_callback)\", \"jax (torch2jax)\", \"torch\"],\n",
    "    [np.mean(t2s), np.mean(t1s), np.mean(t3s)],\n",
    "    yerr=[np.std(t2s), np.std(t1s), np.std(t3s)],\n",
    "    capsize=10.0,\n",
    ")\n",
    "plt.ylabel(\"Time (s)\")\n",
    "plt.tight_layout()\n",
    "plt.savefig(\"../images/bert_from_jax.png\", dpi=200, bbox_inches=\"tight\", pad_inches=0.1)\n",
    "plt.show()\n"
   ]
  },
  {
   "cell_type": "code",
   "execution_count": null,
   "id": "c4fdac0b",
   "metadata": {},
   "outputs": [],
   "source": []
  }
 ],
 "metadata": {
  "jupytext": {
   "cell_metadata_filter": "-all",
   "main_language": "python",
   "notebook_metadata_filter": "-all"
  },
  "kernelspec": {
   "display_name": "devel",
   "language": "python",
   "name": "python3"
  },
  "language_info": {
   "codemirror_mode": {
    "name": "ipython",
    "version": 3
   },
   "file_extension": ".py",
   "mimetype": "text/x-python",
   "name": "python",
   "nbconvert_exporter": "python",
   "pygments_lexer": "ipython3",
   "version": "3.9.13"
  }
 },
 "nbformat": 4,
 "nbformat_minor": 5
}
