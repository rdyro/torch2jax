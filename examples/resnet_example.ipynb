{
 "cells": [
  {
   "attachments": {},
   "cell_type": "markdown",
   "id": "7d16bfa8",
   "metadata": {},
   "source": [
    "# ResNet 50 example"
   ]
  },
  {
   "cell_type": "code",
   "execution_count": 1,
   "id": "bbd89d91",
   "metadata": {},
   "outputs": [],
   "source": [
    "from __future__ import annotations\n",
    "\n",
    "from pprint import pprint\n",
    "\n",
    "from tqdm import tqdm\n",
    "from datasets import load_dataset\n",
    "import torch\n",
    "from torchvision.models.resnet import resnet18\n",
    "from torch import nn\n",
    "from torch.func import functional_call\n",
    "from torch.utils.data import DataLoader\n",
    "from torchvision.transforms import ToTensor\n",
    "import jax\n",
    "from jax import numpy as jnp\n",
    "import optax\n",
    "\n",
    "from torch2jax import tree_t2j, torch2jax_with_vjp, tree_j2t, t2j\n",
    "\n",
    "device = torch.device(\"cuda\" if torch.cuda.is_available() else \"cpu\")\n",
    "device_jax = jax.devices(device.type)[0]"
   ]
  },
  {
   "attachments": {},
   "cell_type": "markdown",
   "id": "2f8c81e5",
   "metadata": {},
   "source": [
    "### Loading the dataset and the model (in PyTorch)"
   ]
  },
  {
   "cell_type": "code",
   "execution_count": 2,
   "id": "4fa712ab",
   "metadata": {},
   "outputs": [
    {
     "name": "stderr",
     "output_type": "stream",
     "text": [
      "Found cached dataset mnist (/home/rdyro/.cache/huggingface/datasets/mnist/mnist/1.0.0/9d494b7f466d6931c64fb39d58bb1249a4d85c9eb9865d9bc20960b999e2a332)\n"
     ]
    }
   ],
   "source": [
    "dataset = load_dataset(\"mnist\", split=\"train\")\n",
    "\n",
    "def collate_torch_fn(batch):\n",
    "    imgs = torch.stack([ToTensor()(x[\"image\"]).repeat((3, 1, 1)) for x in batch]).to(device)\n",
    "    labels = torch.tensor([x[\"label\"] for x in batch]).to(device)\n",
    "    return imgs, labels\n",
    "\n",
    "collate_jax_fn = lambda batch: tree_t2j(collate_torch_fn(batch))"
   ]
  },
  {
   "cell_type": "code",
   "execution_count": 3,
   "id": "7c1d3995",
   "metadata": {},
   "outputs": [],
   "source": [
    "model = nn.Sequential(resnet18(), nn.Linear(1000, 10))\n",
    "model.to(device)\n",
    "model.eval()\n",
    "\n",
    "opts = dict(batch_size=32, shuffle=True, num_workers=0)\n",
    "dl = DataLoader(dataset, **opts)\n",
    "dl_jax = DataLoader(dataset, **dict(opts, collate_fn=collate_jax_fn))\n",
    "dl_torch = DataLoader(dataset, **dict(opts, collate_fn=collate_torch_fn))"
   ]
  },
  {
   "attachments": {},
   "cell_type": "markdown",
   "id": "ed5d93ee",
   "metadata": {},
   "source": [
    "### Let's convert the torch model to a function, using `torch.func.functional_call`"
   ]
  },
  {
   "cell_type": "code",
   "execution_count": 4,
   "id": "ad5978ae",
   "metadata": {},
   "outputs": [],
   "source": [
    "params, buffers = dict(model.named_parameters()), dict(model.named_buffers())\n",
    "\n",
    "\n",
    "def torch_fwd_fn(params, buffers, input):\n",
    "    buffers = {k: torch.clone(v) for k, v in buffers.items()}\n",
    "    return functional_call(model, (params, buffers), args=input)\n",
    "\n",
    "\n",
    "Xt, yt = next(iter(dl_torch))\n",
    "nondiff_argnums = (1, 2)  # buffers, input\n",
    "jax_fwd_fn = jax.jit(\n",
    "    torch2jax_with_vjp(torch_fwd_fn, params, buffers, Xt, nondiff_argnums=nondiff_argnums)\n",
    ")\n",
    "params_jax, buffers_jax = tree_t2j(params), tree_t2j(buffers)"
   ]
  },
  {
   "cell_type": "markdown",
   "id": "4f73c156",
   "metadata": {},
   "source": [
    "### Let's use torch's CrossEntropyLoss"
   ]
  },
  {
   "cell_type": "code",
   "execution_count": 5,
   "id": "4b3571e8",
   "metadata": {},
   "outputs": [],
   "source": [
    "Xt, yt = next(iter(dl_torch))\n",
    "torch_ce_fn = lambda yp, y: nn.CrossEntropyLoss()(yp, y)\n",
    "jax_ce_fn = torch2jax_with_vjp(torch_ce_fn, model(Xt), yt)\n",
    "\n",
    "jax_l_fn = jax.jit(\n",
    "    lambda params_jax, X, y: jnp.mean(jax_ce_fn(jax_fwd_fn(params_jax, buffers_jax, X), y))\n",
    ")\n",
    "jax_g_fn = jax.jit(jax.grad(jax_l_fn))\n",
    "torch_g_fn = torch.func.grad(\n",
    "    lambda params, Xt, yt: torch_ce_fn(torch_fwd_fn(params, buffers, Xt), yt)\n",
    ")\n"
   ]
  },
  {
   "cell_type": "code",
   "execution_count": 6,
   "id": "3754feb7",
   "metadata": {},
   "outputs": [
    {
     "name": "stdout",
     "output_type": "stream",
     "text": [
      "{'0.bn1.bias': 6.606649449736324e-09,\n",
      " '0.bn1.weight': 1.0237145575686668e-09,\n",
      " '0.conv1.weight': 1.9232666659263487e-07,\n",
      " '0.fc.bias': 0.0,\n",
      " '0.fc.weight': 0.0,\n",
      " '0.layer1.0.bn1.bias': 4.424356436771859e-09,\n",
      " '0.layer1.0.bn1.weight': 5.933196711715993e-10,\n",
      " '0.layer1.0.bn2.bias': 2.3588471176339e-09,\n",
      " '0.layer1.0.bn2.weight': 4.533372566228877e-10,\n",
      " '0.layer1.0.conv1.weight': 1.4028480599392879e-08,\n",
      " '0.layer1.0.conv2.weight': 1.1964990775936712e-08,\n",
      " '0.layer1.1.bn1.bias': 8.75052974524948e-10,\n",
      " '0.layer1.1.bn1.weight': 2.0072446482721773e-10,\n",
      " '0.layer1.1.bn2.bias': 5.820766091346741e-11,\n",
      " '0.layer1.1.bn2.weight': 2.9103830456733704e-11,\n",
      " '0.layer1.1.conv1.weight': 1.1259264631746646e-08,\n",
      " '0.layer1.1.conv2.weight': 1.1262083710050774e-08,\n",
      " '0.layer2.0.bn1.bias': 0.0,\n",
      " '0.layer2.0.bn1.weight': 0.0,\n",
      " '0.layer2.0.bn2.bias': 0.0,\n",
      " '0.layer2.0.bn2.weight': 0.0,\n",
      " '0.layer2.0.conv1.weight': 0.0,\n",
      " '0.layer2.0.conv2.weight': 0.0,\n",
      " '0.layer2.0.downsample.0.weight': 6.819701248161891e-09,\n",
      " '0.layer2.0.downsample.1.bias': 0.0,\n",
      " '0.layer2.0.downsample.1.weight': 0.0,\n",
      " '0.layer2.1.bn1.bias': 0.0,\n",
      " '0.layer2.1.bn1.weight': 0.0,\n",
      " '0.layer2.1.bn2.bias': 0.0,\n",
      " '0.layer2.1.bn2.weight': 5.820766091346741e-11,\n",
      " '0.layer2.1.conv1.weight': 0.0,\n",
      " '0.layer2.1.conv2.weight': 0.0,\n",
      " '0.layer3.0.bn1.bias': 0.0,\n",
      " '0.layer3.0.bn1.weight': 0.0,\n",
      " '0.layer3.0.bn2.bias': 0.0,\n",
      " '0.layer3.0.bn2.weight': 0.0,\n",
      " '0.layer3.0.conv1.weight': 0.0,\n",
      " '0.layer3.0.conv2.weight': 0.0,\n",
      " '0.layer3.0.downsample.0.weight': 0.0,\n",
      " '0.layer3.0.downsample.1.bias': 0.0,\n",
      " '0.layer3.0.downsample.1.weight': 0.0,\n",
      " '0.layer3.1.bn1.bias': 0.0,\n",
      " '0.layer3.1.bn1.weight': 0.0,\n",
      " '0.layer3.1.bn2.bias': 0.0,\n",
      " '0.layer3.1.bn2.weight': 0.0,\n",
      " '0.layer3.1.conv1.weight': 0.0,\n",
      " '0.layer3.1.conv2.weight': 0.0,\n",
      " '0.layer4.0.bn1.bias': 0.0,\n",
      " '0.layer4.0.bn1.weight': 0.0,\n",
      " '0.layer4.0.bn2.bias': 0.0,\n",
      " '0.layer4.0.bn2.weight': 0.0,\n",
      " '0.layer4.0.conv1.weight': 0.0,\n",
      " '0.layer4.0.conv2.weight': 0.0,\n",
      " '0.layer4.0.downsample.0.weight': 0.0,\n",
      " '0.layer4.0.downsample.1.bias': 0.0,\n",
      " '0.layer4.0.downsample.1.weight': 0.0,\n",
      " '0.layer4.1.bn1.bias': 0.0,\n",
      " '0.layer4.1.bn1.weight': 0.0,\n",
      " '0.layer4.1.bn2.bias': 0.0,\n",
      " '0.layer4.1.bn2.weight': 0.0,\n",
      " '0.layer4.1.conv1.weight': 0.0,\n",
      " '0.layer4.1.conv2.weight': 0.0,\n",
      " '1.bias': 0.0,\n",
      " '1.weight': 0.0}\n"
     ]
    }
   ],
   "source": [
    "X, y = next(iter(dl_jax))\n",
    "gs_jax = jax_g_fn(params_jax, X, y)\n",
    "gs_torch = torch_g_fn(params, *tree_j2t((X, y)))\n",
    "\n",
    "# let's compute error in gradients between JAX and Torch (the errors are 0!)\n",
    "errors = {k: float(jnp.linalg.norm(v - t2j(gs_torch[k]))) for k, v in gs_jax.items()}\n",
    "pprint(errors)"
   ]
  },
  {
   "cell_type": "markdown",
   "id": "e71adc85",
   "metadata": {},
   "source": [
    "### Train loop \n",
    "\n",
    "This isn't very efficient because torch synchronizes for every batch when called\n",
    "from JAX. Train in PyTorch, but you can do inference in JAX fast."
   ]
  },
  {
   "cell_type": "code",
   "execution_count": 7,
   "id": "cc518bed",
   "metadata": {},
   "outputs": [
    {
     "name": "stderr",
     "output_type": "stream",
     "text": [
      "  1%|          | 11/1875 [00:01<04:37,  6.72it/s]\n"
     ]
    }
   ],
   "source": [
    "optimizer = optax.adam(1e-3)\n",
    "opt_state = optimizer.init(params_jax)\n",
    "update_fn, apply_updates = jax.jit(optimizer.update), jax.jit(optax.apply_updates)\n",
    "for i, (X, y) in enumerate(tqdm(dl_jax, total=len(dl_jax))):\n",
    "    gs = jax_g_fn(params_jax, X, y)\n",
    "    updates, opt_state = update_fn(gs, opt_state)\n",
    "    params_jax2 = apply_updates(params_jax, updates)\n",
    "    if i > 10:\n",
    "        break"
   ]
  }
 ],
 "metadata": {
  "jupytext": {
   "cell_metadata_filter": "-all",
   "main_language": "python",
   "notebook_metadata_filter": "-all"
  },
  "kernelspec": {
   "display_name": "devel",
   "language": "python",
   "name": "python3"
  },
  "language_info": {
   "codemirror_mode": {
    "name": "ipython",
    "version": 3
   },
   "file_extension": ".py",
   "mimetype": "text/x-python",
   "name": "python",
   "nbconvert_exporter": "python",
   "pygments_lexer": "ipython3",
   "version": "3.9.13"
  }
 },
 "nbformat": 4,
 "nbformat_minor": 5
}
